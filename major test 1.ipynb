{
 "cells": [
  {
   "cell_type": "code",
   "execution_count": 27,
   "metadata": {},
   "outputs": [
    {
     "name": "stdout",
     "output_type": "stream",
     "text": [
      "[0, 1]\n"
     ]
    }
   ],
   "source": [
    "# Ques 1\n",
    "\n",
    "def twoSum(nums, target):\n",
    "    ans=[]\n",
    "        \n",
    "    d={}\n",
    "    for i in range(len(nums)):\n",
    "        oopPair = target-nums[i]\n",
    "            \n",
    "        if oopPair in d:\n",
    "            ans.append(d[oopPair])\n",
    "            ans.append(i)\n",
    "            break\n",
    "                \n",
    "        d[nums[i]] = i\n",
    "    \n",
    "    return ans\n",
    "\n",
    "print(twoSum([2,7,11,15],9))"
   ]
  },
  {
   "cell_type": "code",
   "execution_count": 28,
   "metadata": {},
   "outputs": [
    {
     "name": "stdout",
     "output_type": "stream",
     "text": [
      "5\n",
      "Harry\n",
      "37.21\n",
      "Berry\n",
      "37.21\n",
      "Tina\n",
      "37.2\n",
      "Akriti\n",
      "41\n",
      "Harsh\n",
      "39\n",
      "\n",
      "Output: \n",
      "Berry\n",
      "Harry\n"
     ]
    }
   ],
   "source": [
    "# Ques 2\n",
    "\n",
    "d={}\n",
    "for _ in range(int(input())):\n",
    "    name = input()\n",
    "    score = float(input())\n",
    "    d[name]=score\n",
    "        \n",
    "v=d.values()\n",
    "second=sorted(list(set(v)))[1]\n",
    "    \n",
    "second_lowest=[] \n",
    "\n",
    "for key,value in d.items():\n",
    "    if value == second:\n",
    "        second_lowest.append(key)\n",
    "        \n",
    "second_lowest.sort()\n",
    "\n",
    "print(\"\\nOutput: \")\n",
    "for i in second_lowest:\n",
    "    print(i)\n",
    "    "
   ]
  },
  {
   "cell_type": "code",
   "execution_count": null,
   "metadata": {},
   "outputs": [],
   "source": []
  }
 ],
 "metadata": {
  "kernelspec": {
   "display_name": "Python 3",
   "language": "python",
   "name": "python3"
  },
  "language_info": {
   "codemirror_mode": {
    "name": "ipython",
    "version": 3
   },
   "file_extension": ".py",
   "mimetype": "text/x-python",
   "name": "python",
   "nbconvert_exporter": "python",
   "pygments_lexer": "ipython3",
   "version": "3.7.6"
  }
 },
 "nbformat": 4,
 "nbformat_minor": 4
}
